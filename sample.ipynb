{
 "cells": [
  {
   "cell_type": "markdown",
   "id": "b1fb76d8-d0bc-4085-88a2-4353d3f6f7d7",
   "metadata": {},
   "source": [
    "# *MODULE NAME*\n",
    "\n",
    "Insert imgage\n",
    "\n",
    "Welcome to the *module name* module.  At the end of this module, you will be able to *description*. Manipulate the distribution parameters to evaluate conditions relevant to Civil Engineering and Geosciences (CEG) applications.\n",
    "\n",
    "This module is set up with a 3-unit format:\n",
    "\n",
    "1. The basic theory of a specific concept.\n",
    "2. Example of how a specific concept is applied to a  CEG problem, through step-by-step explanations and short python code blocks.\n",
    "3. Introduction of a new problem, to practice using the method from unit 2.\n",
    "\n",
    "---\n",
    "## 1. Theory\n",
    "\n",
    "\n",
    "---\n",
    "\n",
    "\n",
    "## 2. \n",
    "\n",
    "1. \n",
    "2. \n",
    "\n",
    "**1. **\n",
    "\n",
    "\n",
    "\n",
    "**2. **\n",
    "\n",
    "\n",
    "\n",
    "---\n",
    "\n",
    "## 3. \n",
    "\n"
   ]
  },
  {
   "cell_type": "code",
   "execution_count": null,
   "id": "aeba218e-a4ac-4df7-a3fd-736ef3ec9a2c",
   "metadata": {},
   "outputs": [],
   "source": []
  }
 ],
 "metadata": {
  "kernelspec": {
   "display_name": "Python 3 (ipykernel)",
   "language": "python",
   "name": "python3"
  },
  "language_info": {
   "codemirror_mode": {
    "name": "ipython",
    "version": 3
   },
   "file_extension": ".py",
   "mimetype": "text/x-python",
   "name": "python",
   "nbconvert_exporter": "python",
   "pygments_lexer": "ipython3",
   "version": "3.10.9"
  }
 },
 "nbformat": 4,
 "nbformat_minor": 5
}
